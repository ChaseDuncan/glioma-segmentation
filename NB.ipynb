{
 "cells": [
  {
   "cell_type": "code",
   "execution_count": 61,
   "metadata": {
    "collapsed": true
   },
   "outputs": [],
   "source": [
    "import pickle as pkl\n",
    "import numpy as np\n",
    "import os\n",
    "import nilearn\n",
    "from nilearn.image import load_img\n",
    "from nilearn import plotting\n",
    "import matplotlib\n",
    "%matplotlib inline\n",
    "import pickle as pkl"
   ]
  },
  {
   "cell_type": "code",
   "execution_count": 62,
   "metadata": {
    "collapsed": true
   },
   "outputs": [],
   "source": [
    "# Some visualization\n",
    "# root = '/home/nfs/zpy/testing_dic/544proj/3DUnet-Tensorflow-Brats18/'\n",
    "# t1_eval_dir='eval_out18_t1/'\n",
    "# t2_eval_dir='eval_out18_t2/'\n",
    "# pred = 'Brats18_2013_10_1.nii.gz'\n",
    "# t1_seg_pred = load_img(root + t1_eval_dir + pred)\n",
    "# t2_seg_pred = load_img(root + t2_eval_dir + pred)\n",
    "# print(t1_seg_pred.shape, t2_seg_pred.shape)\n",
    "# plotting.plot_roi(t1_seg_pred) # brain data\n",
    "# plotting.plot_roi(t2_seg_pred) # brain data"
   ]
  },
  {
   "cell_type": "code",
   "execution_count": 329,
   "metadata": {
    "collapsed": true
   },
   "outputs": [],
   "source": [
    "# Load data\n",
    "def load_data():\n",
    "    root = '/home/nfs/zpy/testing_dic/544proj/3DUnet-Tensorflow-Brats18/'\n",
    "    t1_predict_dir = 'eval_out18_t1/'\n",
    "    t2_predict_dir = 'eval_out18_t2/'\n",
    "    \n",
    "\n",
    "    base_dir = '/home/nfs/zpy/testing_dic/544proj/3DUnet-Tensorflow-Brats18/'\n",
    "    t1_prob_dir ='eval_out18_t1_prob_False/'\n",
    "    t2_prob_dir ='eval_out18_t2_prob_False/'\n",
    "    seg_dir = '/home/nfs/zpy/testing_dic/544proj/data/val_t1/'\n",
    "    \n",
    "    \n",
    "    t1_logits = []\n",
    "    t2_logits = []\n",
    "    gts = []\n",
    "    for i in os.listdir(root+t1_prob_dir):\n",
    "        with open(root + t1_prob_dir + i, 'rb') as f :\n",
    "            t1 = pkl.load(open(root + t1_prob_dir + i, 'rb')) # 155, 240, 240, 4\n",
    "        f.close()\n",
    "        with open(root + t2_prob_dir + i, 'rb') as f :\n",
    "            t2 = pkl.load(f)\n",
    "        f.close()\n",
    "        \n",
    "        t1_logits.append(np.transpose(t1,[1,2,0,3]))\n",
    "        t2_logits.append(np.transpose(t2,[1,2,0,3]))\n",
    "        seg_name = i.replace('.pkl', '_seg.nii.gz')\n",
    "        seg_real = load_img(seg_dir + i.split('.')[0] +'/' + seg_name).get_data()\n",
    "        gts.append(seg_real)\n",
    "    t1_evals = []\n",
    "    t2_evals = []\n",
    "    filenames = os.listdir(root+t1_predict_dir)\n",
    "    \n",
    "    for i in filenames:\n",
    "        t1_seg_pred = load_img(root + t1_predict_dir + i).get_data()\n",
    "        t2_seg_pred = load_img(root + t2_predict_dir + i).get_data()\n",
    "        \n",
    "        t1_evals.append(t1_seg_pred)\n",
    "        t2_evals.append(t2_seg_pred)\n",
    "        \n",
    "    print(\"Loading done\")\n",
    "    return t1_logits, t2_logits, gts, t1_evals, t2_evals\n"
   ]
  },
  {
   "cell_type": "code",
   "execution_count": 348,
   "metadata": {
    "collapsed": true
   },
   "outputs": [],
   "source": [
    "def cal_acc(pred, seg):\n",
    "    denominator = pred.shape[0] *  pred.shape[1] * pred.shape[2] \n",
    "    # from prob\n",
    "    # Pred (155, 240, 240)\n",
    "    # Seg  (240, 240, 155)\n",
    "    \n",
    "    return np.sum(pred == seg)/denominator\n",
    "\n",
    "def evaluate(preds_list, segs_list):\n",
    "    acc = []\n",
    "    for i in range(len(preds_list)):\n",
    "        acc.append(cal_acc(preds_list[i], segs_list[i]))\n",
    "    print('Mean acc: %.4f'%np.mean(acc))\n",
    "\n",
    "# Well, in the competation they seem to compute for each class. I used it improper.\n",
    "def binary_dice3d(ss,gs):\n",
    "    \"\"\"\n",
    "    dice score of 3d binary volumes\n",
    "    inputs: \n",
    "        ss: segmentation volume\n",
    "        gs: ground truth volume\n",
    "    outputs:\n",
    "        dice: the dice score\n",
    "    \"\"\"\n",
    "    dices = []\n",
    "    for i in range(len(ss)):\n",
    "        s = ss[i]\n",
    "        g = gs[i]\n",
    "        \n",
    "        assert(len(s.shape)==3)\n",
    "        [Ds, Hs, Ws] = s.shape\n",
    "        [Dg, Hg, Wg] = g.shape\n",
    "        assert(Ds==Dg and Hs==Hg and Ws==Wg)\n",
    "        prod = np.multiply(s, g)\n",
    "        s0 = prod.sum()\n",
    "        s1 = s.sum()\n",
    "        s2 = g.sum()\n",
    "        dice = (2.0*s0 + 1e-10)/(s1 + s2 + 1e-10)\n",
    "        dices.append(dice)\n",
    "    avg_dice = np.mean(dices)\n",
    "    print('Avg_dice: %.4f '%avg_dice)\n",
    "    return avg_dice\n",
    "\n",
    "# Safe_log\n",
    "def safe_log(x, minval=0.0000000001):\n",
    "    return np.log(x.clip(min=minval))\n",
    "\n",
    "# Naive Bayes\n",
    "def predict_best(t1_logits, t2_logits, prior):\n",
    "    best_preds = []\n",
    "    for i in range(len(t1_logits)):\n",
    "        \n",
    "        probs = []\n",
    "        for class_ in range(t1_logits[0].shape[-1]):\n",
    "            probs.append(safe_log(prior[class_]) + \n",
    "                         safe_log(t1_logits[i][:,:,:, class_]) + \n",
    "                         safe_log(t2_logits[i][:,:,:,class_]))\n",
    "            \n",
    "        stack = np.stack(probs, axis=-1) # 155, 240, 240, 4 \n",
    "        nb_pred = np.argmax(stack, axis=-1) # -> 155, 240, 240\n",
    "        best_preds.append(nb_pred) \n",
    "    return best_preds\n",
    "\n",
    "# Compute prior\n",
    "def compute_prior(gts): \n",
    "    prior = [0, 0, 0, 0]\n",
    "    classes = [0, 1, 2, 4]\n",
    "    for i in range(len(t1_logits)):\n",
    "        for i, class_ in enumerate(classes):\n",
    "            prior[i] += np.sum(gts[i] == class_)\n",
    "    norm_prior = prior/sum(prior)\n",
    "    print(norm_prior)\n",
    "    return norm_prior"
   ]
  },
  {
   "cell_type": "code",
   "execution_count": 331,
   "metadata": {
    "scrolled": true
   },
   "outputs": [
    {
     "name": "stderr",
     "output_type": "stream",
     "text": [
      "/home/nfs/zpy/anaconda3/lib/python3.6/site-packages/ipykernel/__main__.py:19: ResourceWarning: unclosed file <_io.BufferedReader name='/home/nfs/zpy/testing_dic/544proj/3DUnet-Tensorflow-Brats18/eval_out18_t1_prob_False/Brats18_2013_10_1.pkl'>\n",
      "/home/nfs/zpy/anaconda3/lib/python3.6/site-packages/nibabel/nifti1.py:582: DeprecationWarning: The binary mode of fromstring is deprecated, as it behaves surprisingly on unicode inputs. Use frombuffer instead\n",
      "  ext_def = np.fromstring(ext_def, dtype=np.int32)\n",
      "/home/nfs/zpy/anaconda3/lib/python3.6/site-packages/ipykernel/__main__.py:19: ResourceWarning: unclosed file <_io.BufferedReader name='/home/nfs/zpy/testing_dic/544proj/3DUnet-Tensorflow-Brats18/eval_out18_t1_prob_False/Brats18_2013_11_1.pkl'>\n",
      "/home/nfs/zpy/anaconda3/lib/python3.6/site-packages/ipykernel/__main__.py:19: ResourceWarning: unclosed file <_io.BufferedReader name='/home/nfs/zpy/testing_dic/544proj/3DUnet-Tensorflow-Brats18/eval_out18_t1_prob_False/Brats18_2013_12_1.pkl'>\n",
      "/home/nfs/zpy/anaconda3/lib/python3.6/site-packages/ipykernel/__main__.py:19: ResourceWarning: unclosed file <_io.BufferedReader name='/home/nfs/zpy/testing_dic/544proj/3DUnet-Tensorflow-Brats18/eval_out18_t1_prob_False/Brats18_2013_13_1.pkl'>\n",
      "/home/nfs/zpy/anaconda3/lib/python3.6/site-packages/ipykernel/__main__.py:19: ResourceWarning: unclosed file <_io.BufferedReader name='/home/nfs/zpy/testing_dic/544proj/3DUnet-Tensorflow-Brats18/eval_out18_t1_prob_False/Brats18_2013_14_1.pkl'>\n",
      "/home/nfs/zpy/anaconda3/lib/python3.6/site-packages/ipykernel/__main__.py:19: ResourceWarning: unclosed file <_io.BufferedReader name='/home/nfs/zpy/testing_dic/544proj/3DUnet-Tensorflow-Brats18/eval_out18_t1_prob_False/Brats18_2013_17_1.pkl'>\n",
      "/home/nfs/zpy/anaconda3/lib/python3.6/site-packages/ipykernel/__main__.py:19: ResourceWarning: unclosed file <_io.BufferedReader name='/home/nfs/zpy/testing_dic/544proj/3DUnet-Tensorflow-Brats18/eval_out18_t1_prob_False/Brats18_2013_18_1.pkl'>\n",
      "/home/nfs/zpy/anaconda3/lib/python3.6/site-packages/ipykernel/__main__.py:19: ResourceWarning: unclosed file <_io.BufferedReader name='/home/nfs/zpy/testing_dic/544proj/3DUnet-Tensorflow-Brats18/eval_out18_t1_prob_False/Brats18_2013_19_1.pkl'>\n",
      "/home/nfs/zpy/anaconda3/lib/python3.6/site-packages/ipykernel/__main__.py:19: ResourceWarning: unclosed file <_io.BufferedReader name='/home/nfs/zpy/testing_dic/544proj/3DUnet-Tensorflow-Brats18/eval_out18_t1_prob_False/Brats18_2013_20_1.pkl'>\n",
      "/home/nfs/zpy/anaconda3/lib/python3.6/site-packages/ipykernel/__main__.py:19: ResourceWarning: unclosed file <_io.BufferedReader name='/home/nfs/zpy/testing_dic/544proj/3DUnet-Tensorflow-Brats18/eval_out18_t1_prob_False/Brats18_2013_21_1.pkl'>\n",
      "/home/nfs/zpy/anaconda3/lib/python3.6/site-packages/ipykernel/__main__.py:19: ResourceWarning: unclosed file <_io.BufferedReader name='/home/nfs/zpy/testing_dic/544proj/3DUnet-Tensorflow-Brats18/eval_out18_t1_prob_False/Brats18_2013_22_1.pkl'>\n",
      "/home/nfs/zpy/anaconda3/lib/python3.6/site-packages/ipykernel/__main__.py:19: ResourceWarning: unclosed file <_io.BufferedReader name='/home/nfs/zpy/testing_dic/544proj/3DUnet-Tensorflow-Brats18/eval_out18_t1_prob_False/Brats18_2013_23_1.pkl'>\n",
      "/home/nfs/zpy/anaconda3/lib/python3.6/site-packages/ipykernel/__main__.py:19: ResourceWarning: unclosed file <_io.BufferedReader name='/home/nfs/zpy/testing_dic/544proj/3DUnet-Tensorflow-Brats18/eval_out18_t1_prob_False/Brats18_2013_25_1.pkl'>\n",
      "/home/nfs/zpy/anaconda3/lib/python3.6/site-packages/ipykernel/__main__.py:19: ResourceWarning: unclosed file <_io.BufferedReader name='/home/nfs/zpy/testing_dic/544proj/3DUnet-Tensorflow-Brats18/eval_out18_t1_prob_False/Brats18_2013_26_1.pkl'>\n",
      "/home/nfs/zpy/anaconda3/lib/python3.6/site-packages/ipykernel/__main__.py:19: ResourceWarning: unclosed file <_io.BufferedReader name='/home/nfs/zpy/testing_dic/544proj/3DUnet-Tensorflow-Brats18/eval_out18_t1_prob_False/Brats18_2013_27_1.pkl'>\n",
      "/home/nfs/zpy/anaconda3/lib/python3.6/site-packages/ipykernel/__main__.py:19: ResourceWarning: unclosed file <_io.BufferedReader name='/home/nfs/zpy/testing_dic/544proj/3DUnet-Tensorflow-Brats18/eval_out18_t1_prob_False/Brats18_2013_2_1.pkl'>\n",
      "/home/nfs/zpy/anaconda3/lib/python3.6/site-packages/ipykernel/__main__.py:19: ResourceWarning: unclosed file <_io.BufferedReader name='/home/nfs/zpy/testing_dic/544proj/3DUnet-Tensorflow-Brats18/eval_out18_t1_prob_False/Brats18_2013_3_1.pkl'>\n",
      "/home/nfs/zpy/anaconda3/lib/python3.6/site-packages/ipykernel/__main__.py:19: ResourceWarning: unclosed file <_io.BufferedReader name='/home/nfs/zpy/testing_dic/544proj/3DUnet-Tensorflow-Brats18/eval_out18_t1_prob_False/Brats18_2013_4_1.pkl'>\n",
      "/home/nfs/zpy/anaconda3/lib/python3.6/site-packages/ipykernel/__main__.py:19: ResourceWarning: unclosed file <_io.BufferedReader name='/home/nfs/zpy/testing_dic/544proj/3DUnet-Tensorflow-Brats18/eval_out18_t1_prob_False/Brats18_2013_5_1.pkl'>\n",
      "/home/nfs/zpy/anaconda3/lib/python3.6/site-packages/ipykernel/__main__.py:19: ResourceWarning: unclosed file <_io.BufferedReader name='/home/nfs/zpy/testing_dic/544proj/3DUnet-Tensorflow-Brats18/eval_out18_t1_prob_False/Brats18_2013_7_1.pkl'>\n"
     ]
    },
    {
     "name": "stdout",
     "output_type": "stream",
     "text": [
      "Loading done\n"
     ]
    }
   ],
   "source": [
    "# Load data\n",
    "t1_logits, t2_logits, gts, t1_evals, t2_evals = load_data()"
   ]
  },
  {
   "cell_type": "code",
   "execution_count": 337,
   "metadata": {},
   "outputs": [
    {
     "name": "stdout",
     "output_type": "stream",
     "text": [
      "[9.79564454e-01 5.09310904e-03 1.48461145e-02 4.96322304e-04]\n"
     ]
    }
   ],
   "source": [
    "norm_prior = compute_prior(gts)"
   ]
  },
  {
   "cell_type": "code",
   "execution_count": 332,
   "metadata": {
    "collapsed": true,
    "scrolled": true
   },
   "outputs": [],
   "source": [
    "# Apply Naive Bayes\n",
    "# Since we don't use the original logits, I don't fix here.\n",
    "# [Not done!] One problem is that we should change the logit values of [0,0,0,0] to [1,0,0,0]\n",
    "nb_preds = predict_best(t1_logits, t2_logits, prior=norm_prior)"
   ]
  },
  {
   "cell_type": "code",
   "execution_count": 333,
   "metadata": {},
   "outputs": [
    {
     "name": "stdout",
     "output_type": "stream",
     "text": [
      "Mean acc: 0.9938\n",
      "Mean acc: 0.9899\n",
      "Mean acc: 0.9796\n",
      "Avg_dice: 2.0211 \n",
      "Avg_dice: 1.3889 \n",
      "Avg_dice: 0.2255 \n"
     ]
    },
    {
     "data": {
      "text/plain": [
       "0.2254965386480981"
      ]
     },
     "execution_count": 333,
     "metadata": {},
     "output_type": "execute_result"
    }
   ],
   "source": [
    "# Some evaluations on original data (240, 240, 155)\n",
    "evaluate(t1_evals, gts)\n",
    "evaluate(t2_evals, gts)\n",
    "evaluate(nb_preds, gts) \n",
    "\n",
    "binary_dice3d(t1_evals, gts)\n",
    "binary_dice3d(t2_evals, gts)\n",
    "binary_dice3d(nb_preds, gts)"
   ]
  },
  {
   "cell_type": "code",
   "execution_count": null,
   "metadata": {
    "collapsed": true
   },
   "outputs": [],
   "source": []
  },
  {
   "cell_type": "code",
   "execution_count": 193,
   "metadata": {},
   "outputs": [],
   "source": []
  },
  {
   "cell_type": "code",
   "execution_count": 334,
   "metadata": {
    "collapsed": true
   },
   "outputs": [],
   "source": [
    "# Crop logits and gt\n",
    "from utils import *\n",
    "def get_none_zero_region(im, margin):\n",
    "    \"\"\"\n",
    "    get the bounding box of the non-zero region of an ND volume\n",
    "    \"\"\"\n",
    "    input_shape = im.shape\n",
    "    if(type(margin) is int ):\n",
    "        margin = [margin]*len(input_shape)\n",
    "    assert(len(input_shape) == len(margin))\n",
    "    indxes = np.nonzero(im)\n",
    "    idx_min = []\n",
    "    idx_max = []\n",
    "    for i in range(len(input_shape)):\n",
    "        idx_min.append(indxes[i].min())\n",
    "        idx_max.append(indxes[i].max())\n",
    "\n",
    "    for i in range(len(input_shape)):\n",
    "        idx_min[i] = max(idx_min[i] - margin[i], 0)\n",
    "        idx_max[i] = min(idx_max[i] + margin[i], input_shape[i] - 1)\n",
    "    return idx_min, idx_max\n",
    "\n",
    "def padding_gt(gt_volume, max_coor):\n",
    "    volume = np.zeros(max_coor)\n",
    "    sp = gt_volume.shape\n",
    "    # print('gt', sp, volume.shape)\n",
    "    volume[:sp[0], :sp[1], :sp[2]] = gt_volume\n",
    "    return volume\n",
    "\n",
    "def padding_prob(prob_volume, max_coor):\n",
    "    volume = np.zeros(max_coor+[4])\n",
    "    sp = prob_volume.shape\n",
    "    # print('shape sp, volume', sp, volume.shape)\n",
    "    volume[:sp[0], :sp[1], :sp[2], :sp[3]] = prob_volume\n",
    "    volume[sp[0]:, sp[1]:, sp[2]:, 0] = 1\n",
    "    sum_ = np.sum(volume,axis=-1)\n",
    "    volume[sum_ == 0,0]=1\n",
    "    sum_ = np.sum(volume,axis=-1)\n",
    "    assert np.sum(sum_==0)==0\n",
    "    return volume\n",
    "    \n",
    "def prob_crop(volume, min_idx, max_idx):\n",
    "    output = volume[min_idx[0]: max_idx[0] + 1,\n",
    "                    min_idx[1]: max_idx[1] + 1,\n",
    "                    min_idx[2]: max_idx[2] + 1,\n",
    "                    :]\n",
    "    return output\n",
    "def crop_seg_and_prob(probs, gts):\n",
    "    max_coor = [0, 0, 0]\n",
    "    gt_volumes = []\n",
    "    prob_volumes = []\n",
    "    for i in range(len(gts)):\n",
    "        bbmin, bbmax = get_none_zero_region(gts[i], 5)\n",
    "        gt_volume = crop_ND_volume_with_bounding_box(gts[i], bbmin, bbmax)\n",
    "        \n",
    "        \n",
    "        transposed_prob = np.transpose(probs[i], (1,2,0,3))\n",
    "        #print(i, gts[i].shape, probs[i].shape, transposed_prob.shape)\n",
    "        \n",
    "        \n",
    "        #prob_volume = crop_ND_volume_with_bounding_box(transposed_prob, bbmin, bbmax)\n",
    "        prob_volume = prob_crop(probs[i], bbmin, bbmax)\n",
    "        \n",
    "        gt_volumes.append(gt_volume)\n",
    "        prob_volumes.append(prob_volume)\n",
    "        \n",
    "        if(gt_volume.shape[0] > max_coor[0]):\n",
    "            max_coor[0] = gt_volume.shape[0]\n",
    "        if(gt_volume.shape[1] > max_coor[1]):\n",
    "            max_coor[1] = gt_volume.shape[1]\n",
    "        if(gt_volume.shape[2] > max_coor[2]):\n",
    "            max_coor[2] = gt_volume.shape[2]\n",
    "    \n",
    "    padding_gt_volumes = []\n",
    "    padding_prob_volumes = []\n",
    "    \n",
    "    for i in range(len(gts)):\n",
    "        padding_gt_volumes.append(padding_gt(gt_volumes[i], max_coor).astype(np.int64))\n",
    "        padding_prob_volumes.append(padding_prob(prob_volumes[i], max_coor))\n",
    "    print('Done')\n",
    "    return padding_prob_volumes, padding_gt_volumes      "
   ]
  },
  {
   "cell_type": "code",
   "execution_count": 335,
   "metadata": {},
   "outputs": [
    {
     "name": "stdout",
     "output_type": "stream",
     "text": [
      "Done\n",
      "Done\n"
     ]
    }
   ],
   "source": [
    "padding_prob_volumes_t1, padding_gt_volumes = crop_seg_and_prob(t1_logits, gts) #(109, 166, 107, 4) (109, 166, 107)     \n",
    "padding_prob_volumes_t2, padding_gt_volumes = crop_seg_and_prob(t2_logits, gts)       "
   ]
  },
  {
   "cell_type": "code",
   "execution_count": 343,
   "metadata": {},
   "outputs": [
    {
     "name": "stdout",
     "output_type": "stream",
     "text": [
      "[0.90841615 0.02282525 0.06653428 0.00222432]\n"
     ]
    }
   ],
   "source": [
    "norm_prior = compute_prior(padding_gt_volumes)"
   ]
  },
  {
   "cell_type": "code",
   "execution_count": 344,
   "metadata": {},
   "outputs": [
    {
     "name": "stdout",
     "output_type": "stream",
     "text": [
      "T1 acc:\n",
      "Mean acc: 0.9257\n",
      "T2 acc:\n",
      "Mean acc: 0.9262\n",
      "NB acc:\n",
      "Mean acc: 0.9290\n"
     ]
    }
   ],
   "source": [
    "print('T1 acc:')\n",
    "evaluate(np.argmax(padding_prob_volumes_t1,axis=-1), padding_gt_volumes)\n",
    "print('T2 acc:')\n",
    "evaluate(np.argmax(padding_prob_volumes_t2,axis=-1), padding_gt_volumes)\n",
    "nb_preds = predict_best(padding_prob_volumes_t1, padding_prob_volumes_t2, prior=norm_prior)\n",
    "print('NB acc:')\n",
    "evaluate(nb_preds, padding_gt_volumes)\n"
   ]
  },
  {
   "cell_type": "code",
   "execution_count": null,
   "metadata": {
    "collapsed": true
   },
   "outputs": [],
   "source": []
  },
  {
   "cell_type": "code",
   "execution_count": 350,
   "metadata": {},
   "outputs": [
    {
     "name": "stdout",
     "output_type": "stream",
     "text": [
      "T1 Dice:\n",
      "Avg_dice: 0.3015 \n",
      "T2 Dice:\n",
      "Avg_dice: 0.2478 \n",
      "NB Dice:\n",
      "Avg_dice: 0.2429 \n"
     ]
    },
    {
     "data": {
      "text/plain": [
       "0.24291100912051616"
      ]
     },
     "execution_count": 350,
     "metadata": {},
     "output_type": "execute_result"
    }
   ],
   "source": [
    "# [Not done!] Use Dice wrong here I think. Should compute Dice similarity for each class\n",
    "print('T1 Dice:')\n",
    "binary_dice3d(np.argmax(padding_prob_volumes_t1,axis=-1), padding_gt_volumes)\n",
    "print('T2 Dice:')\n",
    "binary_dice3d(np.argmax(padding_prob_volumes_t2,axis=-1), padding_gt_volumes)\n",
    "print('NB Dice:')\n",
    "binary_dice3d(nb_preds, padding_gt_volumes)"
   ]
  },
  {
   "cell_type": "code",
   "execution_count": null,
   "metadata": {
    "collapsed": true
   },
   "outputs": [],
   "source": []
  },
  {
   "cell_type": "code",
   "execution_count": null,
   "metadata": {
    "collapsed": true
   },
   "outputs": [],
   "source": []
  },
  {
   "cell_type": "code",
   "execution_count": null,
   "metadata": {
    "collapsed": true
   },
   "outputs": [],
   "source": []
  },
  {
   "cell_type": "code",
   "execution_count": null,
   "metadata": {
    "collapsed": true
   },
   "outputs": [],
   "source": []
  },
  {
   "cell_type": "code",
   "execution_count": 302,
   "metadata": {},
   "outputs": [
    {
     "name": "stdout",
     "output_type": "stream",
     "text": [
      "20 3\n",
      "Done\n"
     ]
    }
   ],
   "source": [
    "# Make triples for cropped data\n",
    "base_dir = '/home/nfs/zpy/testing_dic/544proj/3DUnet-Tensorflow-Brats18/'\n",
    "triple_file_name = 't1_t2_logits_gt_proto2.pkl'\n",
    "def make_triple(base_dir, triple_file_name, padding_prob_volumes_t1, padding_prob_volumes_t2, padding_gt_volumes):\n",
    "    triples = []\n",
    "    for i in range(len(padding_gt_volumes)):\n",
    "        triples.append([padding_prob_volumes_t1[i], padding_prob_volumes_t2[i], padding_gt_volumes[i]])\n",
    "    \n",
    "    # f = open(base_dir + triple_file_name, 'wb')\n",
    "    # pkl.dump(triples, f, protocol=2)\n",
    "    # f.close()\n",
    "    print(len(triples), len(triples[0]))\n",
    "    print('Done')\n",
    "    \n",
    "make_triple(base_dir, triple_file_name, padding_prob_volumes_t1, padding_prob_volumes_t2, padding_gt_volumes)"
   ]
  },
  {
   "cell_type": "code",
   "execution_count": 120,
   "metadata": {
    "scrolled": true
   },
   "outputs": [
    {
     "name": "stderr",
     "output_type": "stream",
     "text": [
      "/home/nfs/zpy/anaconda3/lib/python3.6/site-packages/ipykernel/__main__.py:13: ResourceWarning: unclosed file <_io.BufferedWriter name='/home/nfs/zpy/testing_dic/544proj/3DUnet-Tensorflow-Brats18/eval_out18_prob_proto2_t1/Brats18_2013_10_1.pkl'>\n",
      "/home/nfs/zpy/anaconda3/lib/python3.6/site-packages/ipykernel/__main__.py:13: ResourceWarning: unclosed file <_io.BufferedWriter name='/home/nfs/zpy/testing_dic/544proj/3DUnet-Tensorflow-Brats18/eval_out18_prob_proto2_t1/Brats18_2013_11_1.pkl'>\n",
      "/home/nfs/zpy/anaconda3/lib/python3.6/site-packages/ipykernel/__main__.py:13: ResourceWarning: unclosed file <_io.BufferedWriter name='/home/nfs/zpy/testing_dic/544proj/3DUnet-Tensorflow-Brats18/eval_out18_prob_proto2_t1/Brats18_2013_12_1.pkl'>\n",
      "/home/nfs/zpy/anaconda3/lib/python3.6/site-packages/ipykernel/__main__.py:13: ResourceWarning: unclosed file <_io.BufferedWriter name='/home/nfs/zpy/testing_dic/544proj/3DUnet-Tensorflow-Brats18/eval_out18_prob_proto2_t1/Brats18_2013_13_1.pkl'>\n",
      "/home/nfs/zpy/anaconda3/lib/python3.6/site-packages/ipykernel/__main__.py:13: ResourceWarning: unclosed file <_io.BufferedWriter name='/home/nfs/zpy/testing_dic/544proj/3DUnet-Tensorflow-Brats18/eval_out18_prob_proto2_t1/Brats18_2013_14_1.pkl'>\n",
      "/home/nfs/zpy/anaconda3/lib/python3.6/site-packages/ipykernel/__main__.py:13: ResourceWarning: unclosed file <_io.BufferedWriter name='/home/nfs/zpy/testing_dic/544proj/3DUnet-Tensorflow-Brats18/eval_out18_prob_proto2_t1/Brats18_2013_17_1.pkl'>\n",
      "/home/nfs/zpy/anaconda3/lib/python3.6/site-packages/ipykernel/__main__.py:13: ResourceWarning: unclosed file <_io.BufferedWriter name='/home/nfs/zpy/testing_dic/544proj/3DUnet-Tensorflow-Brats18/eval_out18_prob_proto2_t1/Brats18_2013_18_1.pkl'>\n",
      "/home/nfs/zpy/anaconda3/lib/python3.6/site-packages/ipykernel/__main__.py:13: ResourceWarning: unclosed file <_io.BufferedWriter name='/home/nfs/zpy/testing_dic/544proj/3DUnet-Tensorflow-Brats18/eval_out18_prob_proto2_t1/Brats18_2013_19_1.pkl'>\n",
      "/home/nfs/zpy/anaconda3/lib/python3.6/site-packages/ipykernel/__main__.py:13: ResourceWarning: unclosed file <_io.BufferedWriter name='/home/nfs/zpy/testing_dic/544proj/3DUnet-Tensorflow-Brats18/eval_out18_prob_proto2_t1/Brats18_2013_20_1.pkl'>\n",
      "/home/nfs/zpy/anaconda3/lib/python3.6/site-packages/ipykernel/__main__.py:13: ResourceWarning: unclosed file <_io.BufferedWriter name='/home/nfs/zpy/testing_dic/544proj/3DUnet-Tensorflow-Brats18/eval_out18_prob_proto2_t1/Brats18_2013_21_1.pkl'>\n",
      "/home/nfs/zpy/anaconda3/lib/python3.6/site-packages/ipykernel/__main__.py:13: ResourceWarning: unclosed file <_io.BufferedWriter name='/home/nfs/zpy/testing_dic/544proj/3DUnet-Tensorflow-Brats18/eval_out18_prob_proto2_t1/Brats18_2013_22_1.pkl'>\n",
      "/home/nfs/zpy/anaconda3/lib/python3.6/site-packages/ipykernel/__main__.py:13: ResourceWarning: unclosed file <_io.BufferedWriter name='/home/nfs/zpy/testing_dic/544proj/3DUnet-Tensorflow-Brats18/eval_out18_prob_proto2_t1/Brats18_2013_23_1.pkl'>\n",
      "/home/nfs/zpy/anaconda3/lib/python3.6/site-packages/ipykernel/__main__.py:13: ResourceWarning: unclosed file <_io.BufferedWriter name='/home/nfs/zpy/testing_dic/544proj/3DUnet-Tensorflow-Brats18/eval_out18_prob_proto2_t1/Brats18_2013_25_1.pkl'>\n",
      "/home/nfs/zpy/anaconda3/lib/python3.6/site-packages/ipykernel/__main__.py:13: ResourceWarning: unclosed file <_io.BufferedWriter name='/home/nfs/zpy/testing_dic/544proj/3DUnet-Tensorflow-Brats18/eval_out18_prob_proto2_t1/Brats18_2013_26_1.pkl'>\n",
      "/home/nfs/zpy/anaconda3/lib/python3.6/site-packages/ipykernel/__main__.py:13: ResourceWarning: unclosed file <_io.BufferedWriter name='/home/nfs/zpy/testing_dic/544proj/3DUnet-Tensorflow-Brats18/eval_out18_prob_proto2_t1/Brats18_2013_27_1.pkl'>\n",
      "/home/nfs/zpy/anaconda3/lib/python3.6/site-packages/ipykernel/__main__.py:13: ResourceWarning: unclosed file <_io.BufferedWriter name='/home/nfs/zpy/testing_dic/544proj/3DUnet-Tensorflow-Brats18/eval_out18_prob_proto2_t1/Brats18_2013_2_1.pkl'>\n",
      "/home/nfs/zpy/anaconda3/lib/python3.6/site-packages/ipykernel/__main__.py:13: ResourceWarning: unclosed file <_io.BufferedWriter name='/home/nfs/zpy/testing_dic/544proj/3DUnet-Tensorflow-Brats18/eval_out18_prob_proto2_t1/Brats18_2013_3_1.pkl'>\n",
      "/home/nfs/zpy/anaconda3/lib/python3.6/site-packages/ipykernel/__main__.py:13: ResourceWarning: unclosed file <_io.BufferedWriter name='/home/nfs/zpy/testing_dic/544proj/3DUnet-Tensorflow-Brats18/eval_out18_prob_proto2_t1/Brats18_2013_4_1.pkl'>\n",
      "/home/nfs/zpy/anaconda3/lib/python3.6/site-packages/ipykernel/__main__.py:13: ResourceWarning: unclosed file <_io.BufferedWriter name='/home/nfs/zpy/testing_dic/544proj/3DUnet-Tensorflow-Brats18/eval_out18_prob_proto2_t1/Brats18_2013_5_1.pkl'>\n"
     ]
    },
    {
     "name": "stdout",
     "output_type": "stream",
     "text": [
      "Done\n"
     ]
    },
    {
     "name": "stderr",
     "output_type": "stream",
     "text": [
      "/home/nfs/zpy/anaconda3/lib/python3.6/site-packages/ipykernel/__main__.py:16: ResourceWarning: unclosed file <_io.BufferedWriter name='/home/nfs/zpy/testing_dic/544proj/3DUnet-Tensorflow-Brats18/eval_out18_prob_proto2_t1/Brats18_2013_7_1.pkl'>\n",
      "/home/nfs/zpy/anaconda3/lib/python3.6/site-packages/ipykernel/__main__.py:13: ResourceWarning: unclosed file <_io.BufferedWriter name='/home/nfs/zpy/testing_dic/544proj/3DUnet-Tensorflow-Brats18/eval_out18_prob_proto2_t2/Brats18_2013_10_1.pkl'>\n",
      "/home/nfs/zpy/anaconda3/lib/python3.6/site-packages/ipykernel/__main__.py:13: ResourceWarning: unclosed file <_io.BufferedWriter name='/home/nfs/zpy/testing_dic/544proj/3DUnet-Tensorflow-Brats18/eval_out18_prob_proto2_t2/Brats18_2013_11_1.pkl'>\n",
      "/home/nfs/zpy/anaconda3/lib/python3.6/site-packages/ipykernel/__main__.py:13: ResourceWarning: unclosed file <_io.BufferedWriter name='/home/nfs/zpy/testing_dic/544proj/3DUnet-Tensorflow-Brats18/eval_out18_prob_proto2_t2/Brats18_2013_12_1.pkl'>\n",
      "/home/nfs/zpy/anaconda3/lib/python3.6/site-packages/ipykernel/__main__.py:13: ResourceWarning: unclosed file <_io.BufferedWriter name='/home/nfs/zpy/testing_dic/544proj/3DUnet-Tensorflow-Brats18/eval_out18_prob_proto2_t2/Brats18_2013_13_1.pkl'>\n",
      "/home/nfs/zpy/anaconda3/lib/python3.6/site-packages/ipykernel/__main__.py:13: ResourceWarning: unclosed file <_io.BufferedWriter name='/home/nfs/zpy/testing_dic/544proj/3DUnet-Tensorflow-Brats18/eval_out18_prob_proto2_t2/Brats18_2013_14_1.pkl'>\n",
      "/home/nfs/zpy/anaconda3/lib/python3.6/site-packages/ipykernel/__main__.py:13: ResourceWarning: unclosed file <_io.BufferedWriter name='/home/nfs/zpy/testing_dic/544proj/3DUnet-Tensorflow-Brats18/eval_out18_prob_proto2_t2/Brats18_2013_17_1.pkl'>\n",
      "/home/nfs/zpy/anaconda3/lib/python3.6/site-packages/ipykernel/__main__.py:13: ResourceWarning: unclosed file <_io.BufferedWriter name='/home/nfs/zpy/testing_dic/544proj/3DUnet-Tensorflow-Brats18/eval_out18_prob_proto2_t2/Brats18_2013_18_1.pkl'>\n",
      "/home/nfs/zpy/anaconda3/lib/python3.6/site-packages/ipykernel/__main__.py:13: ResourceWarning: unclosed file <_io.BufferedWriter name='/home/nfs/zpy/testing_dic/544proj/3DUnet-Tensorflow-Brats18/eval_out18_prob_proto2_t2/Brats18_2013_19_1.pkl'>\n",
      "/home/nfs/zpy/anaconda3/lib/python3.6/site-packages/ipykernel/__main__.py:13: ResourceWarning: unclosed file <_io.BufferedWriter name='/home/nfs/zpy/testing_dic/544proj/3DUnet-Tensorflow-Brats18/eval_out18_prob_proto2_t2/Brats18_2013_20_1.pkl'>\n",
      "/home/nfs/zpy/anaconda3/lib/python3.6/site-packages/ipykernel/__main__.py:13: ResourceWarning: unclosed file <_io.BufferedWriter name='/home/nfs/zpy/testing_dic/544proj/3DUnet-Tensorflow-Brats18/eval_out18_prob_proto2_t2/Brats18_2013_21_1.pkl'>\n",
      "/home/nfs/zpy/anaconda3/lib/python3.6/site-packages/ipykernel/__main__.py:13: ResourceWarning: unclosed file <_io.BufferedWriter name='/home/nfs/zpy/testing_dic/544proj/3DUnet-Tensorflow-Brats18/eval_out18_prob_proto2_t2/Brats18_2013_22_1.pkl'>\n",
      "/home/nfs/zpy/anaconda3/lib/python3.6/site-packages/ipykernel/__main__.py:13: ResourceWarning: unclosed file <_io.BufferedWriter name='/home/nfs/zpy/testing_dic/544proj/3DUnet-Tensorflow-Brats18/eval_out18_prob_proto2_t2/Brats18_2013_23_1.pkl'>\n",
      "/home/nfs/zpy/anaconda3/lib/python3.6/site-packages/ipykernel/__main__.py:13: ResourceWarning: unclosed file <_io.BufferedWriter name='/home/nfs/zpy/testing_dic/544proj/3DUnet-Tensorflow-Brats18/eval_out18_prob_proto2_t2/Brats18_2013_25_1.pkl'>\n",
      "/home/nfs/zpy/anaconda3/lib/python3.6/site-packages/ipykernel/__main__.py:13: ResourceWarning: unclosed file <_io.BufferedWriter name='/home/nfs/zpy/testing_dic/544proj/3DUnet-Tensorflow-Brats18/eval_out18_prob_proto2_t2/Brats18_2013_26_1.pkl'>\n",
      "/home/nfs/zpy/anaconda3/lib/python3.6/site-packages/ipykernel/__main__.py:13: ResourceWarning: unclosed file <_io.BufferedWriter name='/home/nfs/zpy/testing_dic/544proj/3DUnet-Tensorflow-Brats18/eval_out18_prob_proto2_t2/Brats18_2013_27_1.pkl'>\n",
      "/home/nfs/zpy/anaconda3/lib/python3.6/site-packages/ipykernel/__main__.py:13: ResourceWarning: unclosed file <_io.BufferedWriter name='/home/nfs/zpy/testing_dic/544proj/3DUnet-Tensorflow-Brats18/eval_out18_prob_proto2_t2/Brats18_2013_2_1.pkl'>\n",
      "/home/nfs/zpy/anaconda3/lib/python3.6/site-packages/ipykernel/__main__.py:13: ResourceWarning: unclosed file <_io.BufferedWriter name='/home/nfs/zpy/testing_dic/544proj/3DUnet-Tensorflow-Brats18/eval_out18_prob_proto2_t2/Brats18_2013_3_1.pkl'>\n",
      "/home/nfs/zpy/anaconda3/lib/python3.6/site-packages/ipykernel/__main__.py:13: ResourceWarning: unclosed file <_io.BufferedWriter name='/home/nfs/zpy/testing_dic/544proj/3DUnet-Tensorflow-Brats18/eval_out18_prob_proto2_t2/Brats18_2013_4_1.pkl'>\n",
      "/home/nfs/zpy/anaconda3/lib/python3.6/site-packages/ipykernel/__main__.py:13: ResourceWarning: unclosed file <_io.BufferedWriter name='/home/nfs/zpy/testing_dic/544proj/3DUnet-Tensorflow-Brats18/eval_out18_prob_proto2_t2/Brats18_2013_5_1.pkl'>\n"
     ]
    },
    {
     "name": "stdout",
     "output_type": "stream",
     "text": [
      "Done\n"
     ]
    },
    {
     "name": "stderr",
     "output_type": "stream",
     "text": [
      "/home/nfs/zpy/anaconda3/lib/python3.6/site-packages/ipykernel/__main__.py:17: ResourceWarning: unclosed file <_io.BufferedWriter name='/home/nfs/zpy/testing_dic/544proj/3DUnet-Tensorflow-Brats18/eval_out18_prob_proto2_t2/Brats18_2013_7_1.pkl'>\n"
     ]
    }
   ],
   "source": [
    "# Changing pkl protocol\n",
    "import pickle as pkl\n",
    "base_dir = '/home/nfs/zpy/testing_dic/544proj/3DUnet-Tensorflow-Brats18/'\n",
    "t1_eval = 'eval_out18_t1_prob_False/'\n",
    "t2_eval = 'eval_out18_t2_prob_False/'\n",
    "output_dir_t1 = 'eval_out18_prob_proto2_t1/'\n",
    "output_dir_t2 = 'eval_out18_prob_proto2_t2/'\n",
    "\n",
    "def change_protocol(base_dir, file_dir, output_dir):\n",
    "    dir_ = base_dir + file_dir\n",
    "    for name in os.listdir(dir_):\n",
    "        with open(dir_ + name, 'rb') as f:\n",
    "            content = pkl.load(f)\n",
    "            f_out = open(base_dir + output_dir + name, 'wb')\n",
    "            pkl.dump(content, f_out, protocol=2)\n",
    "    print('Done')\n",
    "change_protocal(base_dir, t1_eval, output_dir_t1)\n",
    "change_protocal(base_dir, t2_eval, output_dir_t2)\n"
   ]
  },
  {
   "cell_type": "code",
   "execution_count": 173,
   "metadata": {},
   "outputs": [
    {
     "name": "stdout",
     "output_type": "stream",
     "text": [
      "[[-1.  0.  0. -0.]\n",
      " [ 0. -1.  0. -0.]\n",
      " [ 0.  0.  1.  0.]\n",
      " [ 0.  0.  0.  1.]]\n"
     ]
    },
    {
     "name": "stderr",
     "output_type": "stream",
     "text": [
      "/home/nfs/zpy/anaconda3/lib/python3.6/site-packages/nilearn/_utils/niimg.py:41: ResourceWarning: unclosed file <_io.BufferedWriter name='/home/nfs/zpy/testing_dic/544proj/3DUnet-Tensorflow-Brats18/eval_out18_t1_prob_proto2/Brats18_2013_14_1.pkl'>\n",
      "  gc.collect()\n",
      "/home/nfs/zpy/anaconda3/lib/python3.6/site-packages/scipy/ndimage/measurements.py:272: DeprecationWarning: In future, it will be an error for 'np.bool_' scalars to be interpreted as an index\n",
      "  return _nd_image.find_objects(input, max_label)\n"
     ]
    },
    {
     "data": {
      "text/plain": [
       "<nilearn.plotting.displays.OrthoSlicer at 0x7f255acee748>"
      ]
     },
     "execution_count": 173,
     "metadata": {},
     "output_type": "execute_result"
    },
    {
     "data": {
      "image/png": "[encoded data removed]",
      "text/plain": [
       "<matplotlib.figure.Figure at 0x7f255b900cc0>"
      ]
     },
     "metadata": {},
     "output_type": "display_data"
    }
   ],
   "source": [
    "# Visualization\n",
    "import nibabel\n",
    "a = predict_best(t1_logits[0], t2_logits[0])\n",
    "OUTPUT_AFFINE = np.array(\n",
    "                [[0, 0, 1, 0],\n",
    "                [0, 1, 0, 0],\n",
    "                [1, 0, 0, 0],\n",
    "                [0, 0, 0, 1]])\n",
    "img = nibabel.Nifti1Image(t1_evals[0], OUTPUT_AFFINE)\n",
    "print(t1_seg_pred.affine)\n",
    "plotting.plot_roi(img) # brain data\n",
    "seg_t1 = np.argmax(t1_logits[0],axis=-1)\n",
    "seg_t2 = np.argmax(t2_logits[0],axis=-1)\n",
    "seg_img_t1 = nibabel.Nifti1Image(seg_t1,OUTPUT_AFFINE)\n",
    "seg_img_t2 = nibabel.Nifti1Image(seg_t1,OUTPUT_AFFINE)\n",
    "plotting.plot_roi(seg_img_t1) # brain data\n",
    "plotting.plot_roi(seg_img_t2)\n"
   ]
  }
 ],
 "metadata": {
  "kernelspec": {
   "display_name": "Python [conda env:anaconda3]",
   "language": "python",
   "name": "conda-env-anaconda3-py"
  },
  "language_info": {
   "codemirror_mode": {
    "name": "ipython",
    "version": 3
   },
   "file_extension": ".py",
   "mimetype": "text/x-python",
   "name": "python",
   "nbconvert_exporter": "python",
   "pygments_lexer": "ipython3",
   "version": "3.6.1"
  }
 },
 "nbformat": 4,
 "nbformat_minor": 2
}
